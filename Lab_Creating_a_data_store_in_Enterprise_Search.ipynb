{
  "nbformat": 4,
  "nbformat_minor": 0,
  "metadata": {
    "colab": {
      "provenance": [],
      "authorship_tag": "ABX9TyPt5TrPjkMA5GstFyL/7cK6",
      "include_colab_link": true
    },
    "kernelspec": {
      "name": "python3",
      "display_name": "Python 3"
    },
    "language_info": {
      "name": "python"
    }
  },
  "cells": [
    {
      "cell_type": "markdown",
      "metadata": {
        "id": "view-in-github",
        "colab_type": "text"
      },
      "source": [
        "<a href=\"https://colab.research.google.com/github/arieljassan/marketing-campaign-generation/blob/main/Lab_Creating_a_data_store_in_Enterprise_Search.ipynb\" target=\"_parent\"><img src=\"https://colab.research.google.com/assets/colab-badge.svg\" alt=\"Open In Colab\"/></a>"
      ]
    },
    {
      "cell_type": "code",
      "source": [
        "# Copyright 2023 Google LLC\n",
        "#\n",
        "# Licensed under the Apache License, Version 2.0 (the \"License\");\n",
        "# you may not use this file except in compliance with the License.\n",
        "# You may obtain a copy of the License at\n",
        "#\n",
        "#     https://www.apache.org/licenses/LICENSE-2.0\n",
        "#\n",
        "# Unless required by applicable law or agreed to in writing, software\n",
        "# distributed under the License is distributed on an \"AS IS\" BASIS,\n",
        "# WITHOUT WARRANTIES OR CONDITIONS OF ANY KIND, either express or implied.\n",
        "# See the License for the specific language governing permissions and\n",
        "# limitations under the License."
      ],
      "metadata": {
        "id": "0qVV6UNcs68l"
      },
      "execution_count": null,
      "outputs": []
    },
    {
      "cell_type": "markdown",
      "source": [
        "# Lab: Creating a data store in Enterprise Search\n",
        "\n",
        "<table align=\"center\">\n",
        "  <td>\n",
        "    <a href=\"https://colab.research.google.com/github/arieljassan/marketing-campaign-generation/blob/main/Lab_Creating_a_data_store_in_Enterprise_Search.ipynb\">\n",
        "      <img src=\"https://cloud.google.com/ml-engine/images/colab-logo-32px.png\" alt=\"Colab logo\"> Run in Colab\n",
        "    </a>\n",
        "  </td>\n",
        "  <td>\n",
        "    <a href=\"https://github.com/arieljassan/marketing-campaign-generation/blob/main/Lab_Creating_a_data_store_in_Enterprise_Search.ipynb\">\n",
        "      <img src=\"https://cloud.google.com/ml-engine/images/github-logo-32px.png\" alt=\"GitHub logo\">\n",
        "      View on GitHub\n",
        "    </a>\n",
        "  </td>\n",
        "</table>\n",
        "\n",
        "## Introduction\n",
        "In this lab we will create a data store in Enterprise Search and will add unstructured html files downloaded from the Google Store website.\n",
        "\n",
        "## Prerequisites\n",
        "We assume you have permissions to write into Google Cloud Storage and to create an Enterprise Search app.\n",
        "\n",
        "## Documentation\n",
        "* How to create an Enterprise Search data store can be found [here](https://cloud.google.com/generative-ai-app-builder/docs/create-data-store-es#cloud-storage)\n",
        "* How to create an Enterprise Search app can be found [here](https://cloud.google.com/generative-ai-app-builder/docs/create-engine-es)\n",
        "\n",
        "## Disclaimer\n",
        "This lab is for educational purposes only and not intended for use in production."
      ],
      "metadata": {
        "id": "3nyVBFv8Y2zm"
      }
    },
    {
      "cell_type": "code",
      "source": [
        "#@title Authenticate your notebook environment\n",
        "from google.colab import auth\n",
        "auth.authenticate_user()"
      ],
      "metadata": {
        "id": "1kgk45QEc6VC"
      },
      "execution_count": null,
      "outputs": []
    },
    {
      "cell_type": "code",
      "source": [
        "BUCKET = 'your-bucket-id' #@param {type: 'string'}"
      ],
      "metadata": {
        "id": "m2kMZsxiaLDc"
      },
      "execution_count": null,
      "outputs": []
    },
    {
      "cell_type": "code",
      "execution_count": null,
      "metadata": {
        "colab": {
          "base_uri": "https://localhost:8080/"
        },
        "id": "JvOtRSWBY0Xx",
        "outputId": "90de3ba4-d8b6-4a89-f4de-10f27c66ca5f"
      },
      "outputs": [
        {
          "output_type": "stream",
          "name": "stdout",
          "text": [
            "Cloning into 'gstore-sample-html'...\n",
            "remote: Enumerating objects: 14, done.\u001b[K\n",
            "remote: Counting objects: 100% (14/14), done.\u001b[K\n",
            "remote: Compressing objects: 100% (5/5), done.\u001b[K\n",
            "remote: Total 14 (delta 7), reused 14 (delta 7), pack-reused 0\u001b[K\n",
            "Receiving objects: 100% (14/14), 794.50 KiB | 8.93 MiB/s, done.\n",
            "Resolving deltas: 100% (7/7), done.\n"
          ]
        }
      ],
      "source": [
        "# @title Clone the repository with sample html files\n",
        "! git clone https://github.com/arieljassan/gstore-sample-html.git"
      ]
    },
    {
      "cell_type": "code",
      "source": [
        "# @title List downloaded files\n",
        "! ls gstore-sample-html/data/"
      ],
      "metadata": {
        "colab": {
          "base_uri": "https://localhost:8080/"
        },
        "id": "7YOwxCxJZ9Gk",
        "outputId": "036dc0e8-4f2e-4b18-c1da-cfd0d9aa23c7"
      },
      "execution_count": null,
      "outputs": [
        {
          "output_type": "stream",
          "name": "stdout",
          "text": [
            "'Google Pixel 7 - Google Store.html'\n",
            "'Google Pixel 7 Pro - Google Store.html'\n",
            "'Google Pixel Buds A-Series, rich sound for less - Google Store.html'\n",
            "'Google Pixel Phones - Google Store.html'\n",
            "'Pixel 7a, Built to perform - Google Store.html'\n",
            "'Pixel Buds Pro - Google Store.html'\n",
            "'Pixel Fold, Power & Innovation Folded into one - Google Store.html'\n",
            "'Wireless Earbuds from Google - Google Store.html'\n"
          ]
        }
      ]
    },
    {
      "cell_type": "code",
      "source": [
        "# @title Copy html files into bucket\n",
        "! gsutil cp gstore-sample-html/data/*.html gs://{BUCKET}/"
      ],
      "metadata": {
        "id": "Cv6iEWITlRnd"
      },
      "execution_count": null,
      "outputs": []
    },
    {
      "cell_type": "markdown",
      "source": [
        "### Create an Enterprise Search app and data store\n",
        "Follow the instructions to create an Enterprise Search app via the console [here](https://cloud.google.com/generative-ai-app-builder/docs/create-engine-es#genappbuilder_create_app-console)."
      ],
      "metadata": {
        "id": "Oyj7S3tiqefe"
      }
    }
  ]
}