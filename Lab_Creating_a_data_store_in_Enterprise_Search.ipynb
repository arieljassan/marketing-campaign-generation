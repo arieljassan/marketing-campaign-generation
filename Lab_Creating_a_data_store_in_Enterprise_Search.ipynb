{
  "nbformat": 4,
  "nbformat_minor": 0,
  "metadata": {
    "colab": {
      "provenance": [],
      "authorship_tag": "ABX9TyM0pkNVTFZreHFFsXbzJqzj"
    },
    "kernelspec": {
      "name": "python3",
      "display_name": "Python 3"
    },
    "language_info": {
      "name": "python"
    }
  },
  "cells": [
    {
      "cell_type": "code",
      "source": [
        "# Copyright 2023 Google LLC\n",
        "#\n",
        "# Licensed under the Apache License, Version 2.0 (the \"License\");\n",
        "# you may not use this file except in compliance with the License.\n",
        "# You may obtain a copy of the License at\n",
        "#\n",
        "#     https://www.apache.org/licenses/LICENSE-2.0\n",
        "#\n",
        "# Unless required by applicable law or agreed to in writing, software\n",
        "# distributed under the License is distributed on an \"AS IS\" BASIS,\n",
        "# WITHOUT WARRANTIES OR CONDITIONS OF ANY KIND, either express or implied.\n",
        "# See the License for the specific language governing permissions and\n",
        "# limitations under the License."
      ],
      "metadata": {
        "id": "0qVV6UNcs68l"
      },
      "execution_count": null,
      "outputs": []
    },
    {
      "cell_type": "markdown",
      "source": [
        "# Lab: Creating a data store in Enterprise Search\n",
        "\n",
        "<table align=\"center\">\n",
        "  <td>\n",
        "    <a href=\"https://colab.research.google.com/github/arieljassan/marketing-campaign-generation/blob/main/Lab_Creating_a_data_store_in_Enterprise_Search.ipynb\">\n",
        "      <img src=\"https://cloud.google.com/ml-engine/images/colab-logo-32px.png\" alt=\"Colab logo\"> Run in Colab\n",
        "    </a>\n",
        "  </td>\n",
        "  <td>\n",
        "    <a href=\"https://github.com/arieljassan/marketing-campaign-generation/blob/main/Lab_Creating_a_data_store_in_Enterprise_Search.ipynb\">\n",
        "      <img src=\"https://cloud.google.com/ml-engine/images/github-logo-32px.png\" alt=\"GitHub logo\">\n",
        "      View on GitHub\n",
        "    </a>\n",
        "  </td>\n",
        "</table>\n",
        "\n",
        "## Introduction\n",
        "In this lab we will create a data store in Enterprise Search and will add unstructured html files downloaded from the Google Store website.\n",
        "\n",
        "## Prerequisites\n",
        "We assume you have permissions to write into Google Cloud Storage and to create an Enterprise Search app.\n",
        "\n",
        "## Documentation\n",
        "* How to create an Enterprise Search data store can be found [here](https://cloud.google.com/generative-ai-app-builder/docs/create-data-store-es#cloud-storage)\n",
        "* How to create an Enterprise Search app can be found [here](https://cloud.google.com/generative-ai-app-builder/docs/create-engine-es)\n",
        "\n",
        "## Disclaimer\n",
        "This lab is for educational purposes only and not intended for use in production."
      ],
      "metadata": {
        "id": "3nyVBFv8Y2zm"
      }
    },
    {
      "cell_type": "code",
      "source": [
        "#@title Authenticate your notebook environment\n",
        "from google.colab import auth\n",
        "auth.authenticate_user()"
      ],
      "metadata": {
        "id": "1kgk45QEc6VC"
      },
      "execution_count": 1,
      "outputs": []
    },
    {
      "cell_type": "code",
      "source": [
        "PROJECT_ID = 'your-project-id' #@param {type: 'string'}\n",
        "BUCKET = 'your-bucket-name' #@param {type: 'string'}\n",
        "REGION = 'us-central1' #@param {type: 'string'}"
      ],
      "metadata": {
        "id": "m2kMZsxiaLDc"
      },
      "execution_count": 2,
      "outputs": []
    },
    {
      "cell_type": "code",
      "execution_count": null,
      "metadata": {
        "id": "JvOtRSWBY0Xx"
      },
      "outputs": [],
      "source": [
        "# @title Clone the repository with sample html files\n",
        "! git clone https://github.com/arieljassan/gstore-sample-html.git"
      ]
    },
    {
      "cell_type": "code",
      "source": [
        "# @title List downloaded files\n",
        "! ls gstore-sample-html/data/"
      ],
      "metadata": {
        "id": "7YOwxCxJZ9Gk"
      },
      "execution_count": null,
      "outputs": []
    },
    {
      "cell_type": "code",
      "source": [
        "# @title Create bucket and copy html files into it\n",
        "# Create bucket.\n",
        "! gsutil mb -p {PROJECT_ID} -l {REGION} gs://{BUCKET}\n",
        "\n",
        "# Copy files.\n",
        "! gsutil cp gstore-sample-html/data/*.html gs://{BUCKET}/"
      ],
      "metadata": {
        "id": "Cv6iEWITlRnd"
      },
      "execution_count": null,
      "outputs": []
    },
    {
      "cell_type": "markdown",
      "source": [
        "### Create an Enterprise Search app and data store\n",
        "Follow the instructions to create an Enterprise Search app via the console [here](https://cloud.google.com/generative-ai-app-builder/docs/create-engine-es#genappbuilder_create_app-console)."
      ],
      "metadata": {
        "id": "Oyj7S3tiqefe"
      }
    }
  ]
}